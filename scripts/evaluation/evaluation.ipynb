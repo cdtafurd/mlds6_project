{
  "cells": [
    {
      "cell_type": "markdown",
      "metadata": {
        "id": "RtzoZraTqCfe"
      },
      "source": [
        "#Validación\n",
        "Se definen 2 métodos, retornarVectorPrediccion que como su nombre lo indica retorna el vector de precciones para el modelo que recibe como entrada y la función accuracy, que podemos hacer la implementación o usar la libreria de sklearn para poder obtener esta métrica."
      ]
    },
    {
      "cell_type": "code",
      "execution_count": null,
      "metadata": {
        "id": "Lg88gceMg8Dr"
      },
      "outputs": [],
      "source": [
        "#Metodo para retornar vector de predicciones\n",
        "def retornarVectorPrediccion(model):\n",
        "  # Iterar a través de los valores de X_test y hacer predicciones\n",
        "  Y_hat = []\n",
        "  for x in questions_test:\n",
        "    # Hacer una predicción para cada valor en X_test\n",
        "    prediction = predict(x, model, vectorizer)  # Asegúrate de darle la forma correcta a tu dato\n",
        "    Y_hat.append(prediction[0])  # Agregar la predicción al vector Y_hat\n",
        "  return Y_hat"
      ]
    },
    {
      "cell_type": "code",
      "execution_count": null,
      "metadata": {
        "id": "j0gZpyXfm5PW"
      },
      "outputs": [],
      "source": [
        "#funcion para calcular el accuracy\n",
        "def accuracy(Y_hat):\n",
        "  # Inicializa una variable para llevar el conteo de predicciones correctas\n",
        "  correct_predictions = 0\n",
        "\n",
        "  # Itera a través de los elementos de y_test y y_hat y compara las predicciones\n",
        "  for true_label, predicted_label in zip(y_test, Y_hat):\n",
        "      if true_label == predicted_label:\n",
        "          correct_predictions += 1\n",
        "\n",
        "  # Calcula la exactitud (accuracy)\n",
        "  accuracy = correct_predictions / len(y_test)\n",
        "  return accuracy"
      ]
    },
    {
      "cell_type": "code",
      "execution_count": null,
      "metadata": {
        "colab": {
          "base_uri": "https://localhost:8080/"
        },
        "id": "J5faezVmnP9F",
        "outputId": "744fcc7f-97c1-46a8-f1f9-a7f391da1f5b"
      },
      "outputs": [
        {
          "name": "stdout",
          "output_type": "stream",
          "text": [
            "Accuracy model 1: 0.925\n",
            "Accuracy model 2: 0.9175\n",
            "Accuracy model 3: 0.9275\n"
          ]
        }
      ],
      "source": [
        "print(\"Accuracy model 1:\", accuracy(Y_hat1))\n",
        "print(\"Accuracy model 2:\", accuracy(Y_hat2))\n",
        "print(\"Accuracy model 3:\", accuracy(Y_hat3))"
      ]
    },
    {
      "cell_type": "markdown",
      "metadata": {
        "id": "Sdxamb9Gq-5o"
      },
      "source": [
        "# Métricas de sklearn"
      ]
    },
    {
      "cell_type": "code",
      "execution_count": null,
      "metadata": {
        "id": "SUsZH-NKOT_8"
      },
      "outputs": [],
      "source": [
        "from sklearn.metrics import accuracy_score, confusion_matrix, classification_report, precision_score"
      ]
    },
    {
      "cell_type": "code",
      "execution_count": null,
      "metadata": {
        "id": "aDDwbR7oOEIF"
      },
      "outputs": [],
      "source": [
        "accuracy_xg = accuracy_score(y_test, Y_hat)\n",
        "\n",
        "precision_mlp = precision_score(y_test, Y_hat, average = 'weighted')"
      ]
    },
    {
      "cell_type": "code",
      "execution_count": null,
      "metadata": {
        "colab": {
          "base_uri": "https://localhost:8080/"
        },
        "id": "z1o6XoEJPC7X",
        "outputId": "3a1a67ad-01b5-487e-9e4f-88f903faf0f6"
      },
      "outputs": [
        {
          "data": {
            "text/plain": [
              "0.925"
            ]
          },
          "execution_count": 30,
          "metadata": {},
          "output_type": "execute_result"
        }
      ],
      "source": [
        "accuracy_xg"
      ]
    },
    {
      "cell_type": "code",
      "execution_count": null,
      "metadata": {
        "colab": {
          "base_uri": "https://localhost:8080/"
        },
        "id": "REPcrJEmPFjT",
        "outputId": "eeab9601-8b11-442c-90ce-b4490469047d"
      },
      "outputs": [
        {
          "data": {
            "text/plain": [
              "0.9291892950029559"
            ]
          },
          "execution_count": 31,
          "metadata": {},
          "output_type": "execute_result"
        }
      ],
      "source": [
        "precision_mlp"
      ]
    },
    {
      "cell_type": "code",
      "execution_count": null,
      "metadata": {
        "id": "u-Qd0_46P1AX"
      },
      "outputs": [],
      "source": [
        "confusion = confusion_matrix(y_test, Y_hat)"
      ]
    },
    {
      "cell_type": "code",
      "execution_count": null,
      "metadata": {
        "colab": {
          "base_uri": "https://localhost:8080/"
        },
        "id": "-D6vlszsQuNG",
        "outputId": "2fb6f9c6-bbec-4114-f53d-0d69ebc79b66"
      },
      "outputs": [
        {
          "name": "stdout",
          "output_type": "stream",
          "text": [
            "Requirement already satisfied: scikit-learn in /usr/local/lib/python3.10/dist-packages (1.2.2)\n",
            "Collecting scikit-learn\n",
            "  Downloading scikit_learn-1.5.0-cp310-cp310-manylinux_2_17_x86_64.manylinux2014_x86_64.whl (13.3 MB)\n",
            "\u001b[2K     \u001b[90m━━━━━━━━━━━━━━━━━━━━━━━━━━━━━━━━━━━━━━━━\u001b[0m \u001b[32m13.3/13.3 MB\u001b[0m \u001b[31m45.4 MB/s\u001b[0m eta \u001b[36m0:00:00\u001b[0m\n",
            "\u001b[?25hRequirement already satisfied: numpy>=1.19.5 in /usr/local/lib/python3.10/dist-packages (from scikit-learn) (1.25.2)\n",
            "Requirement already satisfied: scipy>=1.6.0 in /usr/local/lib/python3.10/dist-packages (from scikit-learn) (1.11.4)\n",
            "Requirement already satisfied: joblib>=1.2.0 in /usr/local/lib/python3.10/dist-packages (from scikit-learn) (1.4.2)\n",
            "Requirement already satisfied: threadpoolctl>=3.1.0 in /usr/local/lib/python3.10/dist-packages (from scikit-learn) (3.5.0)\n",
            "Installing collected packages: scikit-learn\n",
            "  Attempting uninstall: scikit-learn\n",
            "    Found existing installation: scikit-learn 1.2.2\n",
            "    Uninstalling scikit-learn-1.2.2:\n",
            "      Successfully uninstalled scikit-learn-1.2.2\n",
            "Successfully installed scikit-learn-1.5.0\n"
          ]
        }
      ],
      "source": [
        "pip install --upgrade scikit-learn"
      ]
    },
    {
      "cell_type": "code",
      "execution_count": null,
      "metadata": {
        "id": "YWVT8t_iQkbu"
      },
      "outputs": [],
      "source": [
        "from sklearn.metrics import confusion_matrix, ConfusionMatrixDisplay"
      ]
    },
    {
      "cell_type": "code",
      "execution_count": null,
      "metadata": {
        "id": "KzW19GZbP-r7"
      },
      "outputs": [],
      "source": [
        "disp = ConfusionMatrixDisplay(confusion_matrix=confusion, display_labels=model.classes_)"
      ]
    },
    {
      "cell_type": "code",
      "execution_count": null,
      "metadata": {
        "colab": {
          "base_uri": "https://localhost:8080/",
          "height": 472
        },
        "id": "x5TLs9MERr6U",
        "outputId": "3bbcf1fb-db41-4c85-a7d1-93664eb4781a"
      },
      "outputs": [
        {
          "data": {
            "text/plain": [
              "<sklearn.metrics._plot.confusion_matrix.ConfusionMatrixDisplay at 0x7a5653661150>"
            ]
          },
          "execution_count": 36,
          "metadata": {},
          "output_type": "execute_result"
        },
        {
          "data": {
            "image/png": "[encoded data removed]",
            "text/plain": [
              "<Figure size 640x480 with 2 Axes>"
            ]
          },
          "metadata": {},
          "output_type": "display_data"
        }
      ],
      "source": [
        "disp.plot()"
      ]
    },
    {
      "cell_type": "code",
      "execution_count": null,
      "metadata": {},
      "outputs": [
        {
          "name": "stdout",
          "output_type": "stream",
          "text": [
            "              precision    recall  f1-score   support\n",
            "\n",
            "           1       0.93      0.78      0.85        32\n",
            "           2       0.94      0.89      0.92        19\n",
            "           3       1.00      1.00      1.00        19\n",
            "           4       1.00      1.00      1.00        16\n",
            "           5       0.83      0.94      0.88        16\n",
            "           6       0.97      0.89      0.93        35\n",
            "           7       0.77      0.67      0.71        15\n",
            "           8       1.00      1.00      1.00         1\n",
            "           9       1.00      0.94      0.97        16\n",
            "          10       1.00      1.00      1.00        13\n",
            "          11       1.00      0.83      0.91         6\n",
            "          12       0.91      1.00      0.95        30\n",
            "          13       0.94      0.98      0.96        60\n",
            "          14       0.94      1.00      0.97        16\n",
            "          16       0.77      0.71      0.74        28\n",
            "          17       0.93      0.93      0.93        15\n",
            "          18       0.83      1.00      0.91        15\n",
            "          19       1.00      1.00      1.00         2\n",
            "          20       1.00      1.00      1.00         2\n",
            "          21       0.96      1.00      0.98        26\n",
            "          22       0.33      1.00      0.50         1\n",
            "          23       0.94      0.94      0.94        17\n",
            "\n",
            "    accuracy                           0.92       400\n",
            "   macro avg       0.91      0.93      0.91       400\n",
            "weighted avg       0.92      0.92      0.92       400\n",
            "\n"
          ]
        }
      ],
      "source": [
        "print(classification_report(y_test, Y_hat1))"
      ]
    },
    {
      "cell_type": "code",
      "execution_count": null,
      "metadata": {},
      "outputs": [
        {
          "name": "stdout",
          "output_type": "stream",
          "text": [
            "              precision    recall  f1-score   support\n",
            "\n",
            "           1       0.93      0.81      0.87        32\n",
            "           2       1.00      0.84      0.91        19\n",
            "           3       1.00      1.00      1.00        19\n",
            "           4       1.00      1.00      1.00        16\n",
            "           5       0.79      0.94      0.86        16\n",
            "           6       0.94      0.91      0.93        35\n",
            "           7       0.80      0.53      0.64        15\n",
            "           8       1.00      1.00      1.00         1\n",
            "           9       1.00      1.00      1.00        16\n",
            "          10       1.00      1.00      1.00        13\n",
            "          11       1.00      0.83      0.91         6\n",
            "          12       0.88      0.97      0.92        30\n",
            "          13       0.94      1.00      0.97        60\n",
            "          14       1.00      1.00      1.00        16\n",
            "          16       0.74      0.71      0.73        28\n",
            "          17       0.93      0.93      0.93        15\n",
            "          18       0.88      1.00      0.94        15\n",
            "          19       1.00      1.00      1.00         2\n",
            "          20       1.00      1.00      1.00         2\n",
            "          21       0.96      1.00      0.98        26\n",
            "          22       0.33      1.00      0.50         1\n",
            "          23       1.00      1.00      1.00        17\n",
            "\n",
            "    accuracy                           0.92       400\n",
            "   macro avg       0.91      0.93      0.91       400\n",
            "weighted avg       0.93      0.92      0.92       400\n",
            "\n"
          ]
        }
      ],
      "source": [
        "print(classification_report(y_test, Y_hat2))"
      ]
    },
    {
      "cell_type": "code",
      "execution_count": null,
      "metadata": {},
      "outputs": [
        {
          "name": "stdout",
          "output_type": "stream",
          "text": [
            "              precision    recall  f1-score   support\n",
            "\n",
            "           1       0.90      0.81      0.85        32\n",
            "           2       0.94      0.84      0.89        19\n",
            "           3       1.00      1.00      1.00        19\n",
            "           4       1.00      1.00      1.00        16\n",
            "           5       0.88      0.94      0.91        16\n",
            "           6       0.97      0.89      0.93        35\n",
            "           7       0.79      0.73      0.76        15\n",
            "           8       1.00      1.00      1.00         1\n",
            "           9       1.00      0.94      0.97        16\n",
            "          10       1.00      1.00      1.00        13\n",
            "          11       1.00      0.83      0.91         6\n",
            "          12       0.94      1.00      0.97        30\n",
            "          13       0.94      1.00      0.97        60\n",
            "          14       0.94      1.00      0.97        16\n",
            "          16       0.77      0.71      0.74        28\n",
            "          17       1.00      0.93      0.97        15\n",
            "          18       0.83      1.00      0.91        15\n",
            "          19       1.00      1.00      1.00         2\n",
            "          20       1.00      1.00      1.00         2\n",
            "          21       0.96      1.00      0.98        26\n",
            "          22       0.33      1.00      0.50         1\n",
            "          23       0.94      0.94      0.94        17\n",
            "\n",
            "    accuracy                           0.93       400\n",
            "   macro avg       0.92      0.94      0.92       400\n",
            "weighted avg       0.93      0.93      0.92       400\n",
            "\n"
          ]
        }
      ],
      "source": [
        "print(classification_report(y_test, Y_hat3))"
      ]
    }
  ],
  "metadata": {
    "colab": {
      "provenance": []
    },
    "kernelspec": {
      "display_name": "Python 3",
      "name": "python3"
    },
    "language_info": {
      "codemirror_mode": {
        "name": "ipython",
        "version": 3
      },
      "file_extension": ".py",
      "mimetype": "text/x-python",
      "name": "python",
      "nbconvert_exporter": "python",
      "pygments_lexer": "ipython3",
      "version": "3.10.11"
    }
  },
  "nbformat": 4,
  "nbformat_minor": 0
}
